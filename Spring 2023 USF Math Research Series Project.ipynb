{
 "cells": [
  {
   "cell_type": "markdown",
   "metadata": {
    "id": "c8a3740c"
   },
   "source": [
    "# Project Title\n",
    "\n",
    "The data we are using can be found here: https://archive.ics.uci.edu/ml/datasets/bike+sharing+dataset"
   ]
  },
  {
   "cell_type": "code",
   "execution_count": null,
   "metadata": {
    "id": "c4348184"
   },
   "outputs": [],
   "source": [
    "##Import libraries using common aliases.\n",
    "import numpy as np\n",
    "import pandas as pd\n",
    "import seaborn as sns\n",
    "import matplotlib.pyplot as plt\n",
    "%matplotlib inline\n",
    "\n",
    "from sklearn.neighbors import KNeighborsClassifier, KNeighborsRegressor\n",
    "from sklearn.model_selection import train_test_split\n",
    "from sklearn.linear_model import LinearRegression, LogisticRegression\n",
    "from sklearn import metrics"
   ]
  },
  {
   "cell_type": "code",
   "execution_count": null,
   "metadata": {
    "id": "30c2bcd8"
   },
   "outputs": [],
   "source": [
    "##Read in the csv file containing the data.\n",
    "bike_sharing = pd.read_csv('bike_sharing.csv')"
   ]
  },
  {
   "cell_type": "markdown",
   "metadata": {
    "id": "bbe00981"
   },
   "source": [
    "## Data Cleaning\n",
    "\n",
    "The first step of the cleaning process is to familiarize ourselves with the dataset.\n",
    "\n",
    "**Question.** What do you want to know about the data?  You can double-click on the cell below to type some of your ideas."
   ]
  },
  {
   "cell_type": "markdown",
   "metadata": {
    "id": "9b667fb8"
   },
   "source": [
    "**Ideas.**"
   ]
  },
  {
   "cell_type": "code",
   "execution_count": null,
   "metadata": {
    "id": "88711d11"
   },
   "outputs": [],
   "source": [
    "bike_sharing.shape"
   ]
  },
  {
   "cell_type": "code",
   "execution_count": null,
   "metadata": {
    "id": "8d367b90"
   },
   "outputs": [],
   "source": [
    "bike_sharing.dtypes"
   ]
  },
  {
   "cell_type": "code",
   "execution_count": null,
   "metadata": {
    "id": "937a2d81",
    "scrolled": true
   },
   "outputs": [],
   "source": [
    "bike_sharing.head()"
   ]
  },
  {
   "cell_type": "markdown",
   "metadata": {
    "id": "e9acb998"
   },
   "source": [
    "**Your turn!**  You can use the following cells to learn more about the data.  One option is to determine the unique values of each feature, using the first cell below as a template."
   ]
  },
  {
   "cell_type": "code",
   "execution_count": null,
   "metadata": {
    "id": "a3bb77c3"
   },
   "outputs": [],
   "source": [
    "bike_sharing['holiday'].unique()"
   ]
  },
  {
   "cell_type": "code",
   "execution_count": null,
   "metadata": {
    "id": "986997b2"
   },
   "outputs": [],
   "source": []
  },
  {
   "cell_type": "code",
   "execution_count": null,
   "metadata": {
    "id": "82bd3150"
   },
   "outputs": [],
   "source": []
  },
  {
   "cell_type": "code",
   "execution_count": null,
   "metadata": {
    "id": "26c7e2b8"
   },
   "outputs": [],
   "source": []
  },
  {
   "cell_type": "code",
   "execution_count": null,
   "metadata": {
    "id": "8c551526"
   },
   "outputs": [],
   "source": []
  },
  {
   "cell_type": "markdown",
   "metadata": {},
   "source": [
    "You'll have some time to further explore this data set, and we will discuss cleaning in more detail in the next session."
   ]
  },
  {
   "cell_type": "markdown",
   "metadata": {},
   "source": [
    "## Exploratory Data Analysis"
   ]
  },
  {
   "cell_type": "code",
   "execution_count": null,
   "metadata": {},
   "outputs": [],
   "source": [
    "bike_sharing.describe()"
   ]
  },
  {
   "cell_type": "markdown",
   "metadata": {},
   "source": [
    "### Examining Variables\n",
    "Let's create a histogram for one of the quantitative variables, and then a bar graph for one of the categorical variables."
   ]
  },
  {
   "cell_type": "code",
   "execution_count": null,
   "metadata": {},
   "outputs": [],
   "source": [
    "sns.displot(bike_sharing['temp'])"
   ]
  },
  {
   "cell_type": "code",
   "execution_count": null,
   "metadata": {},
   "outputs": [],
   "source": [
    "sns.countplot(x=bike_sharing['season'])"
   ]
  },
  {
   "cell_type": "markdown",
   "metadata": {},
   "source": [
    "### Examining Relationships Between Two Variables\n",
    "Below, we will compute descriptive statistics for variables by season. Then, we create a scatterplot and generate correlation coefficients to examine relationships between two quantitative variables."
   ]
  },
  {
   "cell_type": "code",
   "execution_count": null,
   "metadata": {},
   "outputs": [],
   "source": [
    "bike_sharing.groupby('season').max()"
   ]
  },
  {
   "cell_type": "code",
   "execution_count": null,
   "metadata": {},
   "outputs": [],
   "source": [
    "bike_sharing.groupby('season').mean()"
   ]
  },
  {
   "cell_type": "code",
   "execution_count": null,
   "metadata": {},
   "outputs": [],
   "source": [
    "sns.scatterplot(x=bike_sharing['temp'], y=bike_sharing['windspeed'])"
   ]
  },
  {
   "cell_type": "code",
   "execution_count": null,
   "metadata": {},
   "outputs": [],
   "source": [
    "np.corrcoef(bike_sharing[['temp', 'windspeed']],rowvar=False)"
   ]
  },
  {
   "cell_type": "code",
   "execution_count": null,
   "metadata": {},
   "outputs": [],
   "source": [
    "plt.figure(figsize=[8,5])\n",
    "sns.pairplot(bike_sharing)"
   ]
  },
  {
   "cell_type": "code",
   "execution_count": null,
   "metadata": {},
   "outputs": [],
   "source": [
    "bike_sharing.corr()"
   ]
  },
  {
   "cell_type": "markdown",
   "metadata": {},
   "source": [
    "## For next time:\n",
    "- Explore the data set further to find aspects that need to be cleaned (e.g. missing data, inconsistent formatting, datatypes that need to be changed, new features to add).\n",
    "- Create visualizations and compute descriptive statistics for features you are interested in from the dataset.\n",
    "- Bring questions you are interested in investigating based on this data."
   ]
  },
  {
   "cell_type": "markdown",
   "metadata": {},
   "source": [
    "## Data Cleaning (continued)"
   ]
  },
  {
   "cell_type": "markdown",
   "metadata": {
    "id": "82132d9c"
   },
   "source": [
    "### Data Types & Formatting\n",
    "\n",
    "Each feature should have consistent formatting and be stored as an appropriate data type.\n",
    "\n",
    "**Question.** What do you notice about the data type of each feature?"
   ]
  },
  {
   "cell_type": "code",
   "execution_count": null,
   "metadata": {
    "id": "25d8eecd"
   },
   "outputs": [],
   "source": [
    "#Convert dteday to datetime data type\n",
    "bike_sharing['dteday'] = pd.to_datetime(bike_sharing['dteday'])"
   ]
  },
  {
   "cell_type": "markdown",
   "metadata": {
    "id": "6308140b"
   },
   "source": [
    "### Enriching the Data\n",
    "\n",
    "We may want to add a feature by either:\n",
    "- Appending a column from another dataframe\n",
    "- Creating a new feature using features that already exist in our dataframe\n",
    "\n",
    "Let's create a feature called ```bike_usage``` which takes values “Below Average” or “Above Average” based on the given feature “cnt”."
   ]
  },
  {
   "cell_type": "code",
   "execution_count": null,
   "metadata": {
    "id": "a25e69f3"
   },
   "outputs": [],
   "source": [
    "bike_sharing['cnt'].mean()"
   ]
  },
  {
   "cell_type": "code",
   "execution_count": null,
   "metadata": {
    "id": "0a83f7b8"
   },
   "outputs": [],
   "source": [
    "def number_category(count):\n",
    "    if count <= 4504:\n",
    "        return 'Below Average'\n",
    "    else:\n",
    "        return 'Above Average'"
   ]
  },
  {
   "cell_type": "code",
   "execution_count": null,
   "metadata": {
    "id": "4c1981ea"
   },
   "outputs": [],
   "source": [
    "bike_sharing['bike_usage'] = bike_sharing['cnt'].apply(number_category)"
   ]
  },
  {
   "cell_type": "code",
   "execution_count": null,
   "metadata": {
    "id": "872d431c"
   },
   "outputs": [],
   "source": [
    "def number_category_binary(category):\n",
    "    if category == 'Below Average':\n",
    "        return 0\n",
    "    else:\n",
    "        return 1"
   ]
  },
  {
   "cell_type": "code",
   "execution_count": null,
   "metadata": {
    "id": "04e9bb62"
   },
   "outputs": [],
   "source": [
    "bike_sharing['bike_usage_binary'] = bike_sharing['bike_usage'].apply(number_category_binary)"
   ]
  },
  {
   "cell_type": "markdown",
   "metadata": {
    "id": "07cd8269"
   },
   "source": [
    "### Validating the Data\n",
    "\n",
    "In the validation process, we verify that the data is accurate.  Let’s ensure that registered + casual = cnt."
   ]
  },
  {
   "cell_type": "code",
   "execution_count": null,
   "metadata": {
    "id": "472adc77"
   },
   "outputs": [],
   "source": [
    "total = bike_sharing['registered'] + bike_sharing['casual']"
   ]
  },
  {
   "cell_type": "code",
   "execution_count": null,
   "metadata": {
    "id": "c2d36df3"
   },
   "outputs": [],
   "source": [
    "(bike_sharing['cnt'] - total).unique()"
   ]
  },
  {
   "cell_type": "markdown",
   "metadata": {
    "id": "73c6e484"
   },
   "source": [
    "### Feature Scaling\n",
    "\n",
    "Convert numeric features to uniform ranges."
   ]
  },
  {
   "cell_type": "code",
   "execution_count": null,
   "metadata": {
    "id": "0d9ecb60"
   },
   "outputs": [],
   "source": [
    "bike_sharing.min()"
   ]
  },
  {
   "cell_type": "markdown",
   "metadata": {
    "id": "def9ae11"
   },
   "source": [
    "## Data Modeling\n",
    "\n",
    "Consider predicting ```bike_usage``` from ```temp``` and ```windspeed```.  First, we split the data."
   ]
  },
  {
   "cell_type": "code",
   "execution_count": null,
   "metadata": {
    "id": "ca794a10"
   },
   "outputs": [],
   "source": [
    "X = bike_sharing[['temp', 'windspeed']]\n",
    "y = bike_sharing['bike_usage']"
   ]
  },
  {
   "cell_type": "code",
   "execution_count": null,
   "metadata": {
    "id": "c447dfdf"
   },
   "outputs": [],
   "source": [
    "X_train, X_test, y_train, y_test = train_test_split(X, y, test_size=0.2, random_state=124)"
   ]
  },
  {
   "cell_type": "markdown",
   "metadata": {
    "id": "d829539b"
   },
   "source": [
    "Let's use k-Nearest Neighbors for Classification.  The documentation is linked [here](https://scikit-learn.org/stable/modules/generated/sklearn.neighbors.KNeighborsClassifier.html).\n",
    "\n",
    "**Algorithm**\n",
    "\n",
    "1. Select the number of neighbors to consider, k.\n",
    "2. Calculate the distance between all labeled instances and the instance to predict.\n",
    "3. The k instances with the shortest distances are the nearest neighbors.\n",
    "4. Use the k nearest neighbors' most common output value as the predicted value."
   ]
  },
  {
   "cell_type": "code",
   "execution_count": null,
   "metadata": {
    "id": "930728fb"
   },
   "outputs": [],
   "source": [
    "bikeClassifier = KNeighborsClassifier(n_neighbors=3)\n",
    "bikeClassifier.fit(X_train, y_train)"
   ]
  },
  {
   "cell_type": "code",
   "execution_count": null,
   "metadata": {
    "id": "51ec0cb4"
   },
   "outputs": [],
   "source": [
    "predicted_usage = bikeClassifier.predict(X_test)"
   ]
  },
  {
   "cell_type": "code",
   "execution_count": null,
   "metadata": {
    "id": "c35a5dee"
   },
   "outputs": [],
   "source": [
    "predicted_bike_sharing = pd.DataFrame({'temp': X_test['temp'], 'windspeed': X_test['windspeed'], 'bike_usage': y_test, 'predicted_usage': predicted_usage})"
   ]
  },
  {
   "cell_type": "code",
   "execution_count": null,
   "metadata": {
    "id": "ee469650"
   },
   "outputs": [],
   "source": [
    "predicted_bike_sharing"
   ]
  },
  {
   "cell_type": "code",
   "execution_count": null,
   "metadata": {
    "id": "c7b7933b"
   },
   "outputs": [],
   "source": [
    "sns.scatterplot(x=predicted_bike_sharing['temp'], y=predicted_bike_sharing['windspeed'], hue=predicted_bike_sharing['bike_usage'])"
   ]
  },
  {
   "cell_type": "code",
   "execution_count": null,
   "metadata": {
    "id": "335097c4"
   },
   "outputs": [],
   "source": [
    "sns.scatterplot(x=predicted_bike_sharing['temp'], y=predicted_bike_sharing['windspeed'], hue=predicted_bike_sharing['predicted_usage'])"
   ]
  },
  {
   "cell_type": "code",
   "execution_count": null,
   "metadata": {
    "id": "0b8ee7b4"
   },
   "outputs": [],
   "source": [
    "total_in_test = len(predicted_bike_sharing)"
   ]
  },
  {
   "cell_type": "code",
   "execution_count": null,
   "metadata": {
    "id": "25387bb1",
    "scrolled": true
   },
   "outputs": [],
   "source": [
    "number_incorrect = (predicted_bike_sharing['bike_usage'] != predicted_bike_sharing['predicted_usage']).sum()"
   ]
  },
  {
   "cell_type": "code",
   "execution_count": null,
   "metadata": {
    "id": "42e7339d"
   },
   "outputs": [],
   "source": [
    "(total_in_test - number_incorrect) / total_in_test"
   ]
  },
  {
   "cell_type": "code",
   "execution_count": null,
   "metadata": {
    "id": "e972de35"
   },
   "outputs": [],
   "source": [
    "metrics.accuracy_score(y_test, predicted_usage)"
   ]
  },
  {
   "cell_type": "markdown",
   "metadata": {
    "id": "a17241c2"
   },
   "source": [
    "Use Logistic Regression to predict ```bike_usage_binary``` from ```temp``` and ```windspeed```."
   ]
  },
  {
   "cell_type": "code",
   "execution_count": null,
   "metadata": {
    "id": "74e8afb3"
   },
   "outputs": [],
   "source": [
    "y_binary = bike_sharing['bike_usage_binary']"
   ]
  },
  {
   "cell_type": "code",
   "execution_count": null,
   "metadata": {
    "id": "d46be4c3"
   },
   "outputs": [],
   "source": [
    "X_train2, X_test2, y_train2, y_test2 = train_test_split(X, y_binary, test_size=0.2, random_state=124)"
   ]
  },
  {
   "cell_type": "code",
   "execution_count": null,
   "metadata": {
    "id": "24b8cf69"
   },
   "outputs": [],
   "source": [
    "bikeLogRegression = LogisticRegression()\n",
    "bikeLogRegression.fit(X_train2, y_train2)"
   ]
  },
  {
   "cell_type": "code",
   "execution_count": null,
   "metadata": {
    "id": "9e58a290"
   },
   "outputs": [],
   "source": [
    "y_log_pred = bikeLogRegression.predict(X_test2)"
   ]
  },
  {
   "cell_type": "code",
   "execution_count": null,
   "metadata": {
    "id": "b7c31123"
   },
   "outputs": [],
   "source": [
    "predicted_bike_sharing['log_predicted_usage'] = y_log_pred"
   ]
  },
  {
   "cell_type": "code",
   "execution_count": null,
   "metadata": {
    "id": "851a5df8",
    "scrolled": true
   },
   "outputs": [],
   "source": [
    "sns.scatterplot(x=predicted_bike_sharing['temp'], y=predicted_bike_sharing['windspeed'], hue=predicted_bike_sharing['log_predicted_usage'])"
   ]
  },
  {
   "cell_type": "code",
   "execution_count": null,
   "metadata": {
    "id": "34d2e191"
   },
   "outputs": [],
   "source": [
    "metrics.accuracy_score(y_test2, y_log_pred)"
   ]
  }
 ],
 "metadata": {
  "colab": {
   "provenance": []
  },
  "kernelspec": {
   "display_name": "Python 3",
   "language": "python",
   "name": "python3"
  },
  "language_info": {
   "codemirror_mode": {
    "name": "ipython",
    "version": 3
   },
   "file_extension": ".py",
   "mimetype": "text/x-python",
   "name": "python",
   "nbconvert_exporter": "python",
   "pygments_lexer": "ipython3",
   "version": "3.7.6"
  }
 },
 "nbformat": 4,
 "nbformat_minor": 5
}
